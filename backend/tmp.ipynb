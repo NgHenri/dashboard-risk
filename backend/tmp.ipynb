{
 "cells": [
  {
   "cell_type": "code",
   "execution_count": 1,
   "metadata": {},
   "outputs": [
    {
     "name": "stdout",
     "output_type": "stream",
     "text": [
      "🔍 Clés disponibles dans artifacts : dict_keys(['scaler', 'model', 'metadata'])\n",
      "🔍 Clés disponibles dans metadata : dict_keys(['optimal_threshold', 'training_date', 'features', 'dtype_example', 'training_stats', 'performance_metrics', 'training_strategy'])\n",
      "✅ Nombre de features : 85\n",
      "Extrait des features : ['EXT_SOURCE_1', 'EXT_SOURCE_2', 'EXT_SOURCE_3', 'AMT_CREDIT', 'ANNUITY_INCOME_PERC']\n"
     ]
    }
   ],
   "source": [
    "import joblib\n",
    "\n",
    "MODEL_PATH = \"../backend/models/lightgbm_production_artifact_20250415_081218.pkl\"\n",
    "\n",
    "# Chargement\n",
    "artifacts = joblib.load(MODEL_PATH)\n",
    "\n",
    "# Inspection des clés principales\n",
    "print(\"🔍 Clés disponibles dans artifacts :\", artifacts.keys())\n",
    "\n",
    "# Si metadata est bien là, on regarde ce qu'il contient\n",
    "metadata = artifacts.get(\"metadata\", {})\n",
    "print(\"🔍 Clés disponibles dans metadata :\", metadata.keys())\n",
    "\n",
    "# On vérifie si les features sont bien définies\n",
    "features = metadata.get(\"features\", None)\n",
    "if features is None:\n",
    "    print(\"❌ 'features' est manquant dans metadata.\")\n",
    "else:\n",
    "    print(f\"✅ Nombre de features : {len(features)}\")\n",
    "    print(\"Extrait des features :\", features[:5])  # Affiche les 5 premières\n",
    "\n"
   ]
  },
  {
   "cell_type": "code",
   "execution_count": 6,
   "metadata": {},
   "outputs": [
    {
     "name": "stdout",
     "output_type": "stream",
     "text": [
      "🔍 Type des artifacts : <class 'numpy.ndarray'>\n",
      "🔍 Extrait des artifacts : ['EXT_SOURCE_1' 'EXT_SOURCE_2' 'EXT_SOURCE_3' 'AMT_CREDIT'\n",
      " 'ANNUITY_INCOME_PERC']\n",
      "longueur du tableau 85\n"
     ]
    }
   ],
   "source": [
    "import pickle\n",
    "\n",
    "# Charge le fichier artifact contenant les informations\n",
    "artifact_path = \"../backend/models/lightgbm_production_artifact_20250415_081218.pkl\"\n",
    "\n",
    "# Charger les artifacts\n",
    "with open(artifact_path, 'rb') as f:\n",
    "    artifacts = pickle.load(f)\n",
    "\n",
    "# Afficher le type de l'objet chargé pour mieux comprendre sa structure\n",
    "print(\"🔍 Type des artifacts :\", type(artifacts))\n",
    "\n",
    "# Afficher un extrait des données pour comprendre la structure\n",
    "print(\"🔍 Extrait des artifacts :\", artifacts[:5])  # Affiche les 5 premiers éléments si c'est un tableau\n",
    "print(\"longueur du tableau\" ,len(artifacts))\n"
   ]
  },
  {
   "cell_type": "code",
   "execution_count": 9,
   "metadata": {},
   "outputs": [
    {
     "name": "stdout",
     "output_type": "stream",
     "text": [
      "✅ Toutes les colonnes nécessaires sont présentes dans les données.\n"
     ]
    }
   ],
   "source": [
    "import pandas as pd\n",
    "\n",
    "# Suppose que client_data est un DataFrame que tu veux prédire\n",
    "TEST_SAMPLE_FOR_API = \"../backend/data/test_1000_sample_for_api.csv\"\n",
    "TEST_SAMPLE_WITH_TARGET = \"../backend/data/test_1000_sample_with_target.csv\"\n",
    "\n",
    "df_test = pd.read_csv(TEST_SAMPLE_WITH_TARGET)\n",
    "df_api = pd.read_csv(TEST_SAMPLE_FOR_API)\n",
    "\n",
    "client_id = df_test[\"SK_ID_CURR\"]\n",
    "client_data = df_api[df_api[\"SK_ID_CURR\"] == client_id].drop(columns=[\"SK_ID_CURR\"])\n",
    "\n",
    "# Comparer les features attendues avec les données d'entrée\n",
    "expected_features = artifacts\n",
    "\n",
    "# Trouver les colonnes manquantes dans les données d'entrée\n",
    "missing_cols = set(expected_features) - set(client_data.columns)\n",
    "\n",
    "# Afficher les résultats\n",
    "if missing_cols:\n",
    "    print(\"⚠️ Colonnes manquantes dans les données d'entrée :\", missing_cols)\n",
    "else:\n",
    "    print(\"✅ Toutes les colonnes nécessaires sont présentes dans les données.\")\n"
   ]
  },
  {
   "cell_type": "code",
   "execution_count": 19,
   "metadata": {},
   "outputs": [
    {
     "name": "stdout",
     "output_type": "stream",
     "text": [
      "Probabilité de défaut : 3.91%\n",
      "Décision : ✅ Accepté\n"
     ]
    }
   ],
   "source": [
    "import joblib\n",
    "\n",
    "# Charger les artefacts sauvegardés\n",
    "model_path = \"../backend/models/lightgbm_production_artifact_20250415_081218.pkl\"\n",
    "artifacts = joblib.load(model_path)\n",
    "\n",
    "# Extraire le modèle et le scaler\n",
    "model = artifacts['model']\n",
    "scaler = artifacts['scaler']\n",
    "\n",
    "# Si nécessaire, obtenir les métadonnées\n",
    "metadata = artifacts['metadata']\n",
    "optimal_threshold = metadata['optimal_threshold']\n",
    "features = metadata['features']\n",
    "\n",
    "# Vérifier les données d'entrée (client_data)\n",
    "client_data = client_data[features]  \n",
    "\n",
    "# Appliquer le scaler sur les données du client\n",
    "client_data_scaled = scaler.transform(client_data)\n",
    "\n",
    "# Appliquer le scaler en conservant les noms de colonnes\n",
    "client_data_scaled = pd.DataFrame(\n",
    "    scaler.transform(client_data),\n",
    "    columns=client_data.columns,\n",
    "    index=client_data.index\n",
    ")\n",
    "\n",
    "# Faire une prédiction sur les données du client\n",
    "pred_proba = model.predict_proba(client_data_scaled)[:, 1]  # Probabilité de défaut\n",
    "\n",
    "# Appliquer le seuil optimal pour la prédiction finale\n",
    "pred = (pred_proba >= optimal_threshold).astype(int)\n",
    "\n",
    "# Affichage des résultats\n",
    "print(f\"Probabilité de défaut : {pred_proba[0]:.2%}\")\n",
    "print(f\"Décision : {'🛑 Refusé' if pred[0] == 1 else '✅ Accepté'}\")\n"
   ]
  },
  {
   "cell_type": "code",
   "execution_count": 16,
   "metadata": {},
   "outputs": [
    {
     "name": "stdout",
     "output_type": "stream",
     "text": [
      "🔍 Type des artifacts : <class 'numpy.ndarray'>\n",
      "🔍 Forme des artifacts : (85,)\n",
      "🔍 Extrait des artifacts : ['EXT_SOURCE_1' 'EXT_SOURCE_2' 'EXT_SOURCE_3' 'AMT_CREDIT'\n",
      " 'ANNUITY_INCOME_PERC']\n"
     ]
    }
   ],
   "source": [
    "import pickle\n",
    "import lightgbm as lgb\n",
    "\n",
    "# Charge les artifacts depuis le fichier\n",
    "artifact_path = \"../backend/models/lightgbm_production_artifact_20250415_081218.pkl\"\n",
    "\n",
    "# Charger les artifacts\n",
    "with open(artifact_path, 'rb') as f:\n",
    "    artifacts = pickle.load(f)\n",
    "\n",
    "# Vérifier la structure des artifacts\n",
    "print(\"🔍 Type des artifacts :\", type(artifacts))\n",
    "print(\"🔍 Forme des artifacts :\", artifacts.shape)  # Vérifie si c'est un tableau NumPy et sa taille\n",
    "\n",
    "# Afficher un extrait pour mieux comprendre la structure\n",
    "print(\"🔍 Extrait des artifacts :\", artifacts[:5])  # Affiche les 5 premiers éléments si c'est un tableau\n"
   ]
  },
  {
   "cell_type": "code",
   "execution_count": 20,
   "metadata": {},
   "outputs": [
    {
     "name": "stdout",
     "output_type": "stream",
     "text": [
      "Données du client sélectionné :\n",
      "{'EXT_SOURCE_1': 0.5074440332442849, 'EXT_SOURCE_2': 0.7109608784019691, 'EXT_SOURCE_3': 0.7267112092725122, 'AMT_CREDIT': 1113840.0, 'ANNUITY_INCOME_PERC': 0.4222333333333333, 'BURO_DAYS_CREDIT_ENDDATE_MEAN': -65.0, 'BURO_DAYS_CREDIT_UPDATE_MEAN': -72.0, 'DAYS_BIRTH': -19274.0, 'DAYS_ID_PUBLISH': -2805.0, 'FLAG_EMP_PHONE': 1.0, 'NAME_INCOME_TYPE_PENSIONER': 0.0, 'BURO_AMT_CREDIT_SUM_MAX': 485640.0, 'BURO_CREDIT_ACTIVE_CLOSED_MEAN': 1.0, 'BURO_CREDIT_TYPE_CAR_LOAN_MEAN': 0.0, 'BURO_CREDIT_TYPE_CREDIT_CARD_MEAN': 0.0, 'BURO_CREDIT_TYPE_MICROLOAN_MEAN': 0.0, 'BURO_CREDIT_TYPE_MORTGAGE_MEAN': 0.0, 'BURO_DAYS_CREDIT_ENDDATE_MAX': -65.0, 'BURO_DAYS_CREDIT_MEAN': -1161.0, 'CODE_GENDER': 1.0, 'DAYS_EMPLOYED_PERC': 0.2647089343156584, 'DAYS_LAST_PHONE_CHANGE': -802.0, 'DAYS_REGISTRATION': -9316.0, 'DEF_60_CNT_SOCIAL_CIRCLE': 0.0, 'FLAG_DOCUMENT_3': 1.0, 'FLAG_DOCUMENT_6': 0.0, 'NAME_HOUSING_TYPE_RENTED_APARTMENT': 0.0, 'OCCUPATION_TYPE_ACCOUNTANTS': 0.0, 'ORGANIZATION_TYPE_BUSINESS_ENTITY_TYPE_3': 1.0, 'ORGANIZATION_TYPE_MILITARY': 0.0, 'ORGANIZATION_TYPE_SELF_EMPLOYED': 0.0, 'PAYMENT_RATE': 0.0511756625727213, 'REGION_POPULATION_RELATIVE': 0.04622, 'REGION_RATING_CLIENT_W_CITY': 1.0, 'REG_CITY_NOT_LIVE_CITY': 0.0, 'ACTIVE_DAYS_CREDIT_ENDDATE_MEAN': 716.0, 'AMT_REQ_CREDIT_BUREAU_QRT': 0.0, 'APPROVED_AMT_ANNUITY_MEAN': 12188.835, 'APPROVED_DAYS_DECISION_MIN': -802.0, 'APPROVED_HOUR_APPR_PROCESS_START_MEAN': 14.666666666666666, 'BURO_AMT_CREDIT_MAX_OVERDUE_MEAN': 0.0, 'BURO_AMT_CREDIT_SUM_DEBT_SUM': 0.0, 'BURO_CREDIT_TYPE_ANOTHER_TYPE_OF_LOAN_MEAN': 0.0, 'BURO_CREDIT_TYPE_LOAN_FOR_BUSINESS_DEVELOPMENT_MEAN': 0.0, 'BURO_CREDIT_TYPE_LOAN_FOR_THE_PURCHASE_OF_EQUIPMENT_MEAN': 0.0, 'BURO_DAYS_CREDIT_MAX': -1161.0, 'BURO_DAYS_CREDIT_VAR': 386627.0666666667, 'CLOSED_AMT_CREDIT_SUM_SUM': 485640.0, 'ELEVATORS_AVG': 0.0, 'FLAG_DOCUMENT_13': 0.0, 'FLAG_DOCUMENT_15': 0.0, 'FLAG_DOCUMENT_16': 0.0, 'FLAG_DOCUMENT_17': 0.0, 'FLAG_DOCUMENT_20': 0.0, 'FLAG_DOCUMENT_21': 0.0, 'FLAG_OWN_CAR': 0.0, 'FLAG_WORK_PHONE': 0.0, 'FLOORSMAX_MODE': 0.1667, 'INCOME_CREDIT_PERC': 0.12120232708468, 'INCOME_PER_PERSON': 67500.0, 'INSTAL_AMT_PAYMENT_MAX': 16267.815, 'INSTAL_AMT_PAYMENT_MEAN': 13673.899285714286, 'INSTAL_AMT_PAYMENT_MIN': 547.2, 'INSTAL_AMT_PAYMENT_SUM': 382869.18, 'INSTAL_DAYS_ENTRY_PAYMENT_MAX': -36.0, 'INSTAL_DAYS_ENTRY_PAYMENT_SUM': -10352.0, 'INSTAL_DBD_MAX': 29.0, 'INSTAL_DBD_MEAN': 4.928571428571429, 'INSTAL_DBD_SUM': 138.0, 'INSTAL_DPD_MEAN': 0.4285714285714285, 'INSTAL_PAYMENT_DIFF_MEAN': 514.0446428571429, 'INSTAL_PAYMENT_DIFF_SUM': 14393.25, 'LIVE_CITY_NOT_WORK_CITY': 0.0, 'LIVINGAREA_MODE': 0.0731, 'NAME_EDUCATION_TYPE_ACADEMIC_DEGREE': 0.0, 'NAME_EDUCATION_TYPE_SECONDARY__SECONDARY_SPECIAL': 1.0, 'NAME_FAMILY_STATUS_MARRIED': 1.0, 'NAME_HOUSING_TYPE_CO_OP_APARTMENT': 0.0, 'NAME_HOUSING_TYPE_MUNICIPAL_APARTMENT': 0.0, 'NAME_INCOME_TYPE_STUDENT': 0.0, 'NAME_INCOME_TYPE_WORKING': 0.0, 'NAME_TYPE_SUITE_OTHER_B': 0.0, 'OCCUPATION_TYPE_DRIVERS': 0.0, 'OCCUPATION_TYPE_LABORERS': 1.0, 'OCCUPATION_TYPE_LOW_SKILL_LABORERS': 0.0}\n",
      "Réponse de l'API :\n",
      "{\n",
      "    \"probability\": 2.69,\n",
      "    \"decision\": \"\\u2705 Accept\\u00e9\"\n",
      "}\n"
     ]
    }
   ],
   "source": [
    "import requests\n",
    "import pandas as pd\n",
    "import random\n",
    "import json\n",
    "\n",
    "# URL de ton API (modifie selon ton environnement)\n",
    "API_URL = \"http://localhost:8000/predict\"\n",
    "\n",
    "# Chargement des données test\n",
    "df_test = pd.read_csv(\"../backend/data/test_1000_sample_for_api.csv\")\n",
    "\n",
    "# Sélection aléatoire d'un client\n",
    "random_client = df_test.sample(n=1)  # Sélectionne un seul client au hasard\n",
    "client_data = random_client.drop(columns=[\"SK_ID_CURR\"]).to_dict(orient=\"records\")[0]  # Extrait les données du client sous forme de dictionnaire\n",
    "\n",
    "# Affichage des données du client sélectionné\n",
    "print(\"Données du client sélectionné :\")\n",
    "print(client_data)\n",
    "\n",
    "# Construction du corps de la requête\n",
    "data = {\n",
    "    \"data\": client_data  # Les données du client sélectionné\n",
    "}\n",
    "\n",
    "# Envoi de la requête à l'API\n",
    "response = requests.post(API_URL, json=data)\n",
    "\n",
    "# Affichage de la réponse de l'API\n",
    "if response.status_code == 200:\n",
    "    result = response.json()\n",
    "    print(\"Réponse de l'API :\")\n",
    "    print(json.dumps(result, indent=4))\n",
    "else:\n",
    "    print(f\"Erreur {response.status_code} : {response.text}\")\n",
    "\n"
   ]
  },
  {
   "cell_type": "code",
   "execution_count": 21,
   "metadata": {},
   "outputs": [
    {
     "name": "stdout",
     "output_type": "stream",
     "text": [
      "200\n",
      "{'probability': 2.69, 'decision': '✅ Accepté'}\n"
     ]
    }
   ],
   "source": [
    "\n",
    "import requests\n",
    "import json\n",
    "\n",
    "API_URL = \"http://localhost:8000/predict\"\n",
    "\n",
    "{\n",
    "  \"data\": {\n",
    "    \"EXT_SOURCE_1\": 0.5074440332442849,\n",
    "    \"EXT_SOURCE_2\": 0.7109608784019691,\n",
    "    \"EXT_SOURCE_3\": 0.7267112092725122,\n",
    "    \"AMT_CREDIT\": 1113840.0,\n",
    "    \"ANNUITY_INCOME_PERC\": 0.4222333333333333,\n",
    "    \"BURO_DAYS_CREDIT_ENDDATE_MEAN\": -65.0,\n",
    "    \"BURO_DAYS_CREDIT_UPDATE_MEAN\": -72.0,\n",
    "    \"DAYS_BIRTH\": -19274.0,\n",
    "    \"DAYS_ID_PUBLISH\": -2805.0,\n",
    "    \"FLAG_EMP_PHONE\": 1.0,\n",
    "    \"NAME_INCOME_TYPE_PENSIONER\": 0.0,\n",
    "    \"BURO_AMT_CREDIT_SUM_MAX\": 485640.0,\n",
    "    \"BURO_CREDIT_ACTIVE_CLOSED_MEAN\": 1.0,\n",
    "    \"BURO_CREDIT_TYPE_CAR_LOAN_MEAN\": 0.0,\n",
    "    \"BURO_CREDIT_TYPE_CREDIT_CARD_MEAN\": 0.0,\n",
    "    \"BURO_CREDIT_TYPE_MICROLOAN_MEAN\": 0.0,\n",
    "    \"BURO_CREDIT_TYPE_MORTGAGE_MEAN\": 0.0,\n",
    "    \"BURO_DAYS_CREDIT_ENDDATE_MAX\": -65.0,\n",
    "    \"BURO_DAYS_CREDIT_MEAN\": -1161.0,\n",
    "    \"CODE_GENDER\": 1.0,\n",
    "    \"DAYS_EMPLOYED_PERC\": 0.2647089343156584,\n",
    "    \"DAYS_LAST_PHONE_CHANGE\": -802.0,\n",
    "    \"DAYS_REGISTRATION\": -9316.0,\n",
    "    \"DEF_60_CNT_SOCIAL_CIRCLE\": 0.0,\n",
    "    \"FLAG_DOCUMENT_3\": 1.0,\n",
    "    \"FLAG_DOCUMENT_6\": 0.0,\n",
    "    \"NAME_HOUSING_TYPE_RENTED_APARTMENT\": 0.0,\n",
    "    \"OCCUPATION_TYPE_ACCOUNTANTS\": 0.0,\n",
    "    \"ORGANIZATION_TYPE_BUSINESS_ENTITY_TYPE_3\": 1.0,\n",
    "    \"ORGANIZATION_TYPE_MILITARY\": 0.0,\n",
    "    \"ORGANIZATION_TYPE_SELF_EMPLOYED\": 0.0,\n",
    "    \"PAYMENT_RATE\": 0.0511756625727213,\n",
    "    \"REGION_POPULATION_RELATIVE\": 0.04622,\n",
    "    \"REGION_RATING_CLIENT_W_CITY\": 1.0,\n",
    "    \"REG_CITY_NOT_LIVE_CITY\": 0.0,\n",
    "    \"ACTIVE_DAYS_CREDIT_ENDDATE_MEAN\": 716.0,\n",
    "    \"AMT_REQ_CREDIT_BUREAU_QRT\": 0.0,\n",
    "    \"APPROVED_AMT_ANNUITY_MEAN\": 12188.835,\n",
    "    \"APPROVED_DAYS_DECISION_MIN\": -802.0,\n",
    "    \"APPROVED_HOUR_APPR_PROCESS_START_MEAN\": 14.666666666666666,\n",
    "    \"BURO_AMT_CREDIT_MAX_OVERDUE_MEAN\": 0.0,\n",
    "    \"BURO_AMT_CREDIT_SUM_DEBT_SUM\": 0.0,\n",
    "    \"BURO_CREDIT_TYPE_ANOTHER_TYPE_OF_LOAN_MEAN\": 0.0,\n",
    "    \"BURO_CREDIT_TYPE_LOAN_FOR_BUSINESS_DEVELOPMENT_MEAN\": 0.0,\n",
    "    \"BURO_CREDIT_TYPE_LOAN_FOR_THE_PURCHASE_OF_EQUIPMENT_MEAN\": 0.0,\n",
    "    \"BURO_DAYS_CREDIT_MAX\": -1161.0,\n",
    "    \"BURO_DAYS_CREDIT_VAR\": 386627.0666666667,\n",
    "    \"CLOSED_AMT_CREDIT_SUM_SUM\": 485640.0,\n",
    "    \"ELEVATORS_AVG\": 0.0,\n",
    "    \"FLAG_DOCUMENT_13\": 0.0,\n",
    "    \"FLAG_DOCUMENT_15\": 0.0,\n",
    "    \"FLAG_DOCUMENT_16\": 0.0,\n",
    "    \"FLAG_DOCUMENT_17\": 0.0,\n",
    "    \"FLAG_DOCUMENT_20\": 0.0,\n",
    "    \"FLAG_DOCUMENT_21\": 0.0,\n",
    "    \"FLAG_OWN_CAR\": 0.0,\n",
    "    \"FLAG_WORK_PHONE\": 0.0,\n",
    "    \"FLOORSMAX_MODE\": 0.1667,\n",
    "    \"INCOME_CREDIT_PERC\": 0.12120232708468,\n",
    "    \"INCOME_PER_PERSON\": 67500.0,\n",
    "    \"INSTAL_AMT_PAYMENT_MAX\": 16267.815,\n",
    "    \"INSTAL_AMT_PAYMENT_MEAN\": 13673.899285714286,\n",
    "    \"INSTAL_AMT_PAYMENT_MIN\": 547.2,\n",
    "    \"INSTAL_AMT_PAYMENT_SUM\": 382869.18,\n",
    "    \"INSTAL_DAYS_ENTRY_PAYMENT_MAX\": -36.0,\n",
    "    \"INSTAL_DAYS_ENTRY_PAYMENT_SUM\": -10352.0,\n",
    "    \"INSTAL_DBD_MAX\": 29.0,\n",
    "    \"INSTAL_DBD_MEAN\": 4.928571428571429,\n",
    "    \"INSTAL_DBD_SUM\": 138.0,\n",
    "    \"INSTAL_DPD_MEAN\": 0.4285714285714285,\n",
    "    \"INSTAL_PAYMENT_DIFF_MEAN\": 514.0446428571429,\n",
    "    \"INSTAL_PAYMENT_DIFF_SUM\": 14393.25,\n",
    "    \"LIVE_CITY_NOT_WORK_CITY\": 0.0,\n",
    "    \"LIVINGAREA_MODE\": 0.0731,\n",
    "    \"NAME_EDUCATION_TYPE_ACADEMIC_DEGREE\": 0.0,\n",
    "    \"NAME_EDUCATION_TYPE_SECONDARY__SECONDARY_SPECIAL\": 1.0,\n",
    "    \"NAME_FAMILY_STATUS_MARRIED\": 1.0,\n",
    "    \"NAME_HOUSING_TYPE_CO_OP_APARTMENT\": 0.0,\n",
    "    \"NAME_HOUSING_TYPE_MUNICIPAL_APARTMENT\": 0.0,\n",
    "    \"NAME_INCOME_TYPE_STUDENT\": 0.0,\n",
    "    \"NAME_INCOME_TYPE_WORKING\": 0.0,\n",
    "    \"NAME_TYPE_SUITE_OTHER_B\": 0.0,\n",
    "    \"OCCUPATION_TYPE_DRIVERS\": 0.0,\n",
    "    \"OCCUPATION_TYPE_LABORERS\": 1.0,\n",
    "    \"OCCUPATION_TYPE_LOW_SKILL_LABORERS\": 0.0\n",
    "  }\n",
    "}\n",
    "\n",
    "response = requests.post(API_URL, json=data)\n",
    "print(response.status_code)\n",
    "print(response.json())\n"
   ]
  }
 ],
 "metadata": {
  "kernelspec": {
   "display_name": "loan-env",
   "language": "python",
   "name": "python3"
  },
  "language_info": {
   "codemirror_mode": {
    "name": "ipython",
    "version": 3
   },
   "file_extension": ".py",
   "mimetype": "text/x-python",
   "name": "python",
   "nbconvert_exporter": "python",
   "pygments_lexer": "ipython3",
   "version": "3.11.12"
  }
 },
 "nbformat": 4,
 "nbformat_minor": 2
}
